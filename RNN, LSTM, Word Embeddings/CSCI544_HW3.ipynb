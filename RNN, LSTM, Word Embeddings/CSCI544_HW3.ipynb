{
 "cells": [
  {
   "cell_type": "code",
   "execution_count": 1,
   "id": "94a435d8",
   "metadata": {},
   "outputs": [],
   "source": [
    "import pandas as pd\n",
    "import numpy as np\n",
    "import nltk\n",
    "import contractions\n",
    "import re\n",
    "import gensim\n",
    "from gensim.test.utils import datapath\n",
    "from gensim import utils\n",
    "from gensim.models import Word2Vec\n",
    "import gensim.downloader\n",
    "from gensim.test.utils import datapath\n",
    "from gensim import utils\n",
    "from sklearn.model_selection import train_test_split\n",
    "from sklearn.linear_model import Perceptron\n",
    "from sklearn.svm import LinearSVC\n",
    "from sklearn import metrics\n",
    "from sklearn.metrics import accuracy_score"
   ]
  },
  {
   "cell_type": "markdown",
   "id": "3e9e0117",
   "metadata": {},
   "source": [
    "#### Importing the dataset"
   ]
  },
  {
   "cell_type": "code",
   "execution_count": 2,
   "id": "a4a45a89",
   "metadata": {},
   "outputs": [],
   "source": [
    "df= pd.read_table('amazon_reviews_us_Beauty_v1_00.tsv',on_bad_lines='skip',low_memory=False)"
   ]
  },
  {
   "cell_type": "code",
   "execution_count": 3,
   "id": "ae98180c",
   "metadata": {},
   "outputs": [
    {
     "data": {
      "text/html": [
       "<div>\n",
       "<style scoped>\n",
       "    .dataframe tbody tr th:only-of-type {\n",
       "        vertical-align: middle;\n",
       "    }\n",
       "\n",
       "    .dataframe tbody tr th {\n",
       "        vertical-align: top;\n",
       "    }\n",
       "\n",
       "    .dataframe thead th {\n",
       "        text-align: right;\n",
       "    }\n",
       "</style>\n",
       "<table border=\"1\" class=\"dataframe\">\n",
       "  <thead>\n",
       "    <tr style=\"text-align: right;\">\n",
       "      <th></th>\n",
       "      <th>marketplace</th>\n",
       "      <th>customer_id</th>\n",
       "      <th>review_id</th>\n",
       "      <th>product_id</th>\n",
       "      <th>product_parent</th>\n",
       "      <th>product_title</th>\n",
       "      <th>product_category</th>\n",
       "      <th>star_rating</th>\n",
       "      <th>helpful_votes</th>\n",
       "      <th>total_votes</th>\n",
       "      <th>vine</th>\n",
       "      <th>verified_purchase</th>\n",
       "      <th>review_headline</th>\n",
       "      <th>review_body</th>\n",
       "      <th>review_date</th>\n",
       "    </tr>\n",
       "  </thead>\n",
       "  <tbody>\n",
       "    <tr>\n",
       "      <th>0</th>\n",
       "      <td>US</td>\n",
       "      <td>1797882</td>\n",
       "      <td>R3I2DHQBR577SS</td>\n",
       "      <td>B001ANOOOE</td>\n",
       "      <td>2102612</td>\n",
       "      <td>The Naked Bee Vitmin C Moisturizing Sunscreen ...</td>\n",
       "      <td>Beauty</td>\n",
       "      <td>5</td>\n",
       "      <td>0.0</td>\n",
       "      <td>0.0</td>\n",
       "      <td>N</td>\n",
       "      <td>Y</td>\n",
       "      <td>Five Stars</td>\n",
       "      <td>Love this, excellent sun block!!</td>\n",
       "      <td>2015-08-31</td>\n",
       "    </tr>\n",
       "    <tr>\n",
       "      <th>1</th>\n",
       "      <td>US</td>\n",
       "      <td>18381298</td>\n",
       "      <td>R1QNE9NQFJC2Y4</td>\n",
       "      <td>B0016J22EQ</td>\n",
       "      <td>106393691</td>\n",
       "      <td>Alba Botanica Sunless Tanning Lotion, 4 Ounce</td>\n",
       "      <td>Beauty</td>\n",
       "      <td>5</td>\n",
       "      <td>0.0</td>\n",
       "      <td>0.0</td>\n",
       "      <td>N</td>\n",
       "      <td>Y</td>\n",
       "      <td>Thank you Alba Bontanica!</td>\n",
       "      <td>The great thing about this cream is that it do...</td>\n",
       "      <td>2015-08-31</td>\n",
       "    </tr>\n",
       "    <tr>\n",
       "      <th>2</th>\n",
       "      <td>US</td>\n",
       "      <td>19242472</td>\n",
       "      <td>R3LIDG2Q4LJBAO</td>\n",
       "      <td>B00HU6UQAG</td>\n",
       "      <td>375449471</td>\n",
       "      <td>Elysee Infusion Skin Therapy Elixir, 2oz.</td>\n",
       "      <td>Beauty</td>\n",
       "      <td>5</td>\n",
       "      <td>0.0</td>\n",
       "      <td>0.0</td>\n",
       "      <td>N</td>\n",
       "      <td>Y</td>\n",
       "      <td>Five Stars</td>\n",
       "      <td>Great Product, I'm 65 years old and this is al...</td>\n",
       "      <td>2015-08-31</td>\n",
       "    </tr>\n",
       "    <tr>\n",
       "      <th>3</th>\n",
       "      <td>US</td>\n",
       "      <td>19551372</td>\n",
       "      <td>R3KSZHPAEVPEAL</td>\n",
       "      <td>B002HWS7RM</td>\n",
       "      <td>255651889</td>\n",
       "      <td>Diane D722 Color, Perm And Conditioner Process...</td>\n",
       "      <td>Beauty</td>\n",
       "      <td>5</td>\n",
       "      <td>0.0</td>\n",
       "      <td>0.0</td>\n",
       "      <td>N</td>\n",
       "      <td>Y</td>\n",
       "      <td>GOOD DEAL!</td>\n",
       "      <td>I use them as shower caps &amp; conditioning caps....</td>\n",
       "      <td>2015-08-31</td>\n",
       "    </tr>\n",
       "    <tr>\n",
       "      <th>4</th>\n",
       "      <td>US</td>\n",
       "      <td>14802407</td>\n",
       "      <td>RAI2OIG50KZ43</td>\n",
       "      <td>B00SM99KWU</td>\n",
       "      <td>116158747</td>\n",
       "      <td>Biore UV Aqua Rich Watery Essence SPF50+/PA+++...</td>\n",
       "      <td>Beauty</td>\n",
       "      <td>5</td>\n",
       "      <td>0.0</td>\n",
       "      <td>0.0</td>\n",
       "      <td>N</td>\n",
       "      <td>Y</td>\n",
       "      <td>this soaks in quick and provides a nice base f...</td>\n",
       "      <td>This is my go-to daily sunblock. It leaves no ...</td>\n",
       "      <td>2015-08-31</td>\n",
       "    </tr>\n",
       "    <tr>\n",
       "      <th>5</th>\n",
       "      <td>US</td>\n",
       "      <td>2909389</td>\n",
       "      <td>R1R30FA4RB5P54</td>\n",
       "      <td>B000NYL1Z6</td>\n",
       "      <td>166146615</td>\n",
       "      <td>Murad Clarifying Cleanser</td>\n",
       "      <td>Beauty</td>\n",
       "      <td>4</td>\n",
       "      <td>0.0</td>\n",
       "      <td>0.0</td>\n",
       "      <td>N</td>\n",
       "      <td>Y</td>\n",
       "      <td>Four Stars</td>\n",
       "      <td>Good</td>\n",
       "      <td>2015-08-31</td>\n",
       "    </tr>\n",
       "    <tr>\n",
       "      <th>6</th>\n",
       "      <td>US</td>\n",
       "      <td>19397215</td>\n",
       "      <td>R30IJKCGJBGPJH</td>\n",
       "      <td>B001SYWTFG</td>\n",
       "      <td>111742328</td>\n",
       "      <td>CoverGirl Queen Collection Perfect Point Plus ...</td>\n",
       "      <td>Beauty</td>\n",
       "      <td>5</td>\n",
       "      <td>0.0</td>\n",
       "      <td>0.0</td>\n",
       "      <td>N</td>\n",
       "      <td>Y</td>\n",
       "      <td>Good buy</td>\n",
       "      <td>Great eyeliner, does run just a little bit at ...</td>\n",
       "      <td>2015-08-31</td>\n",
       "    </tr>\n",
       "    <tr>\n",
       "      <th>7</th>\n",
       "      <td>US</td>\n",
       "      <td>3195210</td>\n",
       "      <td>R18GLJJPVQ1OVH</td>\n",
       "      <td>B005F2EVMQ</td>\n",
       "      <td>255803087</td>\n",
       "      <td>Bifesta Mandom Eye Makeup Remover, 145ml</td>\n",
       "      <td>Beauty</td>\n",
       "      <td>5</td>\n",
       "      <td>0.0</td>\n",
       "      <td>0.0</td>\n",
       "      <td>N</td>\n",
       "      <td>Y</td>\n",
       "      <td>Five Stars</td>\n",
       "      <td>Best makeup remover！</td>\n",
       "      <td>2015-08-31</td>\n",
       "    </tr>\n",
       "    <tr>\n",
       "      <th>8</th>\n",
       "      <td>US</td>\n",
       "      <td>52216383</td>\n",
       "      <td>R8TVYIJXLYJT0</td>\n",
       "      <td>B00M1SUW7K</td>\n",
       "      <td>246816549</td>\n",
       "      <td>Can You Handlebar All-Natural Secondary Mousta...</td>\n",
       "      <td>Beauty</td>\n",
       "      <td>5</td>\n",
       "      <td>0.0</td>\n",
       "      <td>0.0</td>\n",
       "      <td>N</td>\n",
       "      <td>Y</td>\n",
       "      <td>Tame the wild mustache</td>\n",
       "      <td>This is a great product. I'm on my latest stab...</td>\n",
       "      <td>2015-08-31</td>\n",
       "    </tr>\n",
       "    <tr>\n",
       "      <th>9</th>\n",
       "      <td>US</td>\n",
       "      <td>10278216</td>\n",
       "      <td>R1CJGF6M3PVHEZ</td>\n",
       "      <td>B001KYQA1S</td>\n",
       "      <td>9612905</td>\n",
       "      <td>Maybelline Great Lash Washable Mascara, Clear ...</td>\n",
       "      <td>Beauty</td>\n",
       "      <td>1</td>\n",
       "      <td>0.0</td>\n",
       "      <td>2.0</td>\n",
       "      <td>N</td>\n",
       "      <td>Y</td>\n",
       "      <td>but it's like having nothing on them at all</td>\n",
       "      <td>I thought it would darken the lashes even thou...</td>\n",
       "      <td>2015-08-31</td>\n",
       "    </tr>\n",
       "  </tbody>\n",
       "</table>\n",
       "</div>"
      ],
      "text/plain": [
       "  marketplace  customer_id       review_id  product_id  product_parent  \\\n",
       "0          US      1797882  R3I2DHQBR577SS  B001ANOOOE         2102612   \n",
       "1          US     18381298  R1QNE9NQFJC2Y4  B0016J22EQ       106393691   \n",
       "2          US     19242472  R3LIDG2Q4LJBAO  B00HU6UQAG       375449471   \n",
       "3          US     19551372  R3KSZHPAEVPEAL  B002HWS7RM       255651889   \n",
       "4          US     14802407   RAI2OIG50KZ43  B00SM99KWU       116158747   \n",
       "5          US      2909389  R1R30FA4RB5P54  B000NYL1Z6       166146615   \n",
       "6          US     19397215  R30IJKCGJBGPJH  B001SYWTFG       111742328   \n",
       "7          US      3195210  R18GLJJPVQ1OVH  B005F2EVMQ       255803087   \n",
       "8          US     52216383   R8TVYIJXLYJT0  B00M1SUW7K       246816549   \n",
       "9          US     10278216  R1CJGF6M3PVHEZ  B001KYQA1S         9612905   \n",
       "\n",
       "                                       product_title product_category  \\\n",
       "0  The Naked Bee Vitmin C Moisturizing Sunscreen ...           Beauty   \n",
       "1      Alba Botanica Sunless Tanning Lotion, 4 Ounce           Beauty   \n",
       "2          Elysee Infusion Skin Therapy Elixir, 2oz.           Beauty   \n",
       "3  Diane D722 Color, Perm And Conditioner Process...           Beauty   \n",
       "4  Biore UV Aqua Rich Watery Essence SPF50+/PA+++...           Beauty   \n",
       "5                          Murad Clarifying Cleanser           Beauty   \n",
       "6  CoverGirl Queen Collection Perfect Point Plus ...           Beauty   \n",
       "7           Bifesta Mandom Eye Makeup Remover, 145ml           Beauty   \n",
       "8  Can You Handlebar All-Natural Secondary Mousta...           Beauty   \n",
       "9  Maybelline Great Lash Washable Mascara, Clear ...           Beauty   \n",
       "\n",
       "  star_rating  helpful_votes  total_votes vine verified_purchase  \\\n",
       "0           5            0.0          0.0    N                 Y   \n",
       "1           5            0.0          0.0    N                 Y   \n",
       "2           5            0.0          0.0    N                 Y   \n",
       "3           5            0.0          0.0    N                 Y   \n",
       "4           5            0.0          0.0    N                 Y   \n",
       "5           4            0.0          0.0    N                 Y   \n",
       "6           5            0.0          0.0    N                 Y   \n",
       "7           5            0.0          0.0    N                 Y   \n",
       "8           5            0.0          0.0    N                 Y   \n",
       "9           1            0.0          2.0    N                 Y   \n",
       "\n",
       "                                     review_headline  \\\n",
       "0                                         Five Stars   \n",
       "1                          Thank you Alba Bontanica!   \n",
       "2                                         Five Stars   \n",
       "3                                         GOOD DEAL!   \n",
       "4  this soaks in quick and provides a nice base f...   \n",
       "5                                         Four Stars   \n",
       "6                                           Good buy   \n",
       "7                                         Five Stars   \n",
       "8                             Tame the wild mustache   \n",
       "9        but it's like having nothing on them at all   \n",
       "\n",
       "                                         review_body review_date  \n",
       "0                   Love this, excellent sun block!!  2015-08-31  \n",
       "1  The great thing about this cream is that it do...  2015-08-31  \n",
       "2  Great Product, I'm 65 years old and this is al...  2015-08-31  \n",
       "3  I use them as shower caps & conditioning caps....  2015-08-31  \n",
       "4  This is my go-to daily sunblock. It leaves no ...  2015-08-31  \n",
       "5                                               Good  2015-08-31  \n",
       "6  Great eyeliner, does run just a little bit at ...  2015-08-31  \n",
       "7                               Best makeup remover！  2015-08-31  \n",
       "8  This is a great product. I'm on my latest stab...  2015-08-31  \n",
       "9  I thought it would darken the lashes even thou...  2015-08-31  "
      ]
     },
     "execution_count": 3,
     "metadata": {},
     "output_type": "execute_result"
    }
   ],
   "source": [
    "df.head(10)"
   ]
  },
  {
   "cell_type": "code",
   "execution_count": 4,
   "id": "44060e16",
   "metadata": {},
   "outputs": [],
   "source": [
    "df_fnl=df[['review_body','star_rating']]"
   ]
  },
  {
   "cell_type": "markdown",
   "id": "edf7e574",
   "metadata": {},
   "source": [
    "#### Replacing the ratings and creating three classes"
   ]
  },
  {
   "cell_type": "code",
   "execution_count": 5,
   "id": "9b113132",
   "metadata": {},
   "outputs": [],
   "source": [
    "df_final=df_fnl.replace({'star_rating':{2:1,3:2,4:3,5:3,'5':3,'2':1,'3':2,'4':3,'1':1}})\n"
   ]
  },
  {
   "cell_type": "code",
   "execution_count": 6,
   "id": "ba4903eb",
   "metadata": {},
   "outputs": [
    {
     "data": {
      "text/plain": [
       "review_body    400\n",
       "star_rating     10\n",
       "dtype: int64"
      ]
     },
     "execution_count": 6,
     "metadata": {},
     "output_type": "execute_result"
    }
   ],
   "source": [
    "df_final.isnull().sum()"
   ]
  },
  {
   "cell_type": "code",
   "execution_count": 7,
   "id": "29e1a997",
   "metadata": {},
   "outputs": [],
   "source": [
    "df_final.dropna(inplace=True)"
   ]
  },
  {
   "cell_type": "code",
   "execution_count": 8,
   "id": "07759d67",
   "metadata": {},
   "outputs": [],
   "source": [
    "s0 = df_final[df_final['star_rating'].eq(1)].sample(20000).index\n",
    "s1 = df_final[df_final['star_rating'].eq(2)].sample(20000).index \n",
    "s2 = df_final[df_final['star_rating'].eq(3)].sample(20000).index \n",
    "\n",
    "df_fi = df_final.loc[s0.union(s1).union(s2)]"
   ]
  },
  {
   "cell_type": "code",
   "execution_count": 9,
   "id": "9580fd58",
   "metadata": {
    "scrolled": true
   },
   "outputs": [
    {
     "data": {
      "text/plain": [
       "2    20000\n",
       "3    20000\n",
       "1    20000\n",
       "Name: star_rating, dtype: int64"
      ]
     },
     "execution_count": 9,
     "metadata": {},
     "output_type": "execute_result"
    }
   ],
   "source": [
    "df_fi['star_rating'].value_counts()"
   ]
  },
  {
   "cell_type": "markdown",
   "id": "2ca3f052",
   "metadata": {},
   "source": [
    "#### Applying the datacleaning techniques to lower, remove white spaces between words, contractions and HTMl and URL Tags"
   ]
  },
  {
   "cell_type": "code",
   "execution_count": 10,
   "id": "a46ac12e",
   "metadata": {},
   "outputs": [],
   "source": [
    "def remove_alphanumeric(s):\n",
    "    s=s.lower()\n",
    "    s=s.strip()\n",
    "    s=contractions.fix(s)\n",
    "    s=s.replace(r'<[^<>]*>', '')\n",
    "    s=s.replace(r'http\\S+', '').replace(r'www\\S+', '')\n",
    "    s=re.sub(r'[^a-zA-Z]',' ',s)\n",
    "    return re.sub(' +', ' ',s)"
   ]
  },
  {
   "cell_type": "code",
   "execution_count": 11,
   "id": "9b498fa0",
   "metadata": {},
   "outputs": [],
   "source": [
    "df_fi['review_body']=df_fi['review_body'].apply(remove_alphanumeric)"
   ]
  },
  {
   "cell_type": "code",
   "execution_count": null,
   "id": "145607a3",
   "metadata": {},
   "outputs": [],
   "source": []
  },
  {
   "cell_type": "code",
   "execution_count": 12,
   "id": "06c52228",
   "metadata": {},
   "outputs": [
    {
     "data": {
      "text/html": [
       "<div>\n",
       "<style scoped>\n",
       "    .dataframe tbody tr th:only-of-type {\n",
       "        vertical-align: middle;\n",
       "    }\n",
       "\n",
       "    .dataframe tbody tr th {\n",
       "        vertical-align: top;\n",
       "    }\n",
       "\n",
       "    .dataframe thead th {\n",
       "        text-align: right;\n",
       "    }\n",
       "</style>\n",
       "<table border=\"1\" class=\"dataframe\">\n",
       "  <thead>\n",
       "    <tr style=\"text-align: right;\">\n",
       "      <th></th>\n",
       "      <th>review_body</th>\n",
       "      <th>star_rating</th>\n",
       "    </tr>\n",
       "  </thead>\n",
       "  <tbody>\n",
       "    <tr>\n",
       "      <th>106</th>\n",
       "      <td>no complaints from my wife and buying from ama...</td>\n",
       "      <td>2</td>\n",
       "    </tr>\n",
       "    <tr>\n",
       "      <th>231</th>\n",
       "      <td>i was super excited about whitening with this ...</td>\n",
       "      <td>2</td>\n",
       "    </tr>\n",
       "    <tr>\n",
       "      <th>510</th>\n",
       "      <td>good size for travel and good price but they c...</td>\n",
       "      <td>3</td>\n",
       "    </tr>\n",
       "    <tr>\n",
       "      <th>594</th>\n",
       "      <td>i want my money i did not respond nothing</td>\n",
       "      <td>1</td>\n",
       "    </tr>\n",
       "    <tr>\n",
       "      <th>696</th>\n",
       "      <td>i love this brush br i now own of them</td>\n",
       "      <td>3</td>\n",
       "    </tr>\n",
       "    <tr>\n",
       "      <th>...</th>\n",
       "      <td>...</td>\n",
       "      <td>...</td>\n",
       "    </tr>\n",
       "    <tr>\n",
       "      <th>5093960</th>\n",
       "      <td>this is my only experience with an ionic hair ...</td>\n",
       "      <td>2</td>\n",
       "    </tr>\n",
       "    <tr>\n",
       "      <th>5094055</th>\n",
       "      <td>for years crest was the toothpaste of choice i...</td>\n",
       "      <td>3</td>\n",
       "    </tr>\n",
       "    <tr>\n",
       "      <th>5094209</th>\n",
       "      <td>after reading all the reviews i was alittle wa...</td>\n",
       "      <td>2</td>\n",
       "    </tr>\n",
       "    <tr>\n",
       "      <th>5094267</th>\n",
       "      <td>i bought this for my wife as a christmas prese...</td>\n",
       "      <td>1</td>\n",
       "    </tr>\n",
       "    <tr>\n",
       "      <th>5094286</th>\n",
       "      <td>this clock radio has the expected features sno...</td>\n",
       "      <td>2</td>\n",
       "    </tr>\n",
       "  </tbody>\n",
       "</table>\n",
       "<p>60000 rows × 2 columns</p>\n",
       "</div>"
      ],
      "text/plain": [
       "                                               review_body star_rating\n",
       "106      no complaints from my wife and buying from ama...           2\n",
       "231      i was super excited about whitening with this ...           2\n",
       "510      good size for travel and good price but they c...           3\n",
       "594              i want my money i did not respond nothing           1\n",
       "696                i love this brush br i now own of them            3\n",
       "...                                                    ...         ...\n",
       "5093960  this is my only experience with an ionic hair ...           2\n",
       "5094055  for years crest was the toothpaste of choice i...           3\n",
       "5094209  after reading all the reviews i was alittle wa...           2\n",
       "5094267  i bought this for my wife as a christmas prese...           1\n",
       "5094286  this clock radio has the expected features sno...           2\n",
       "\n",
       "[60000 rows x 2 columns]"
      ]
     },
     "execution_count": 12,
     "metadata": {},
     "output_type": "execute_result"
    }
   ],
   "source": [
    "df_fi"
   ]
  },
  {
   "cell_type": "markdown",
   "id": "28810859",
   "metadata": {},
   "source": [
    "### Word Embedding "
   ]
  },
  {
   "cell_type": "markdown",
   "id": "a9270d74",
   "metadata": {},
   "source": [
    "Part a"
   ]
  },
  {
   "cell_type": "code",
   "execution_count": 13,
   "id": "80d697e4",
   "metadata": {},
   "outputs": [],
   "source": [
    "google_wrd2vc = gensim.downloader.load('word2vec-google-news-300')"
   ]
  },
  {
   "cell_type": "code",
   "execution_count": 14,
   "id": "eb53ced6",
   "metadata": {},
   "outputs": [
    {
     "name": "stdout",
     "output_type": "stream",
     "text": [
      "[('queen', 0.7118193507194519), ('monarch', 0.6189674735069275), ('princess', 0.5902431011199951), ('crown_prince', 0.5499460697174072), ('prince', 0.5377321243286133), ('kings', 0.5236844420433044), ('Queen_Consort', 0.5235945582389832), ('queens', 0.518113374710083), ('sultan', 0.5098593831062317), ('monarchy', 0.5087411999702454)]\n"
     ]
    }
   ],
   "source": [
    "print(google_wrd2vc.most_similar(positive=['woman', 'king'], negative=['man']))"
   ]
  },
  {
   "cell_type": "code",
   "execution_count": 15,
   "id": "7d329c18",
   "metadata": {},
   "outputs": [
    {
     "data": {
      "text/plain": [
       "0.61207294"
      ]
     },
     "execution_count": 15,
     "metadata": {},
     "output_type": "execute_result"
    }
   ],
   "source": [
    "google_wrd2vc.similarity('good','better')"
   ]
  },
  {
   "cell_type": "code",
   "execution_count": 16,
   "id": "8f110252",
   "metadata": {},
   "outputs": [
    {
     "data": {
      "text/plain": [
       "0.16873193"
      ]
     },
     "execution_count": 16,
     "metadata": {},
     "output_type": "execute_result"
    }
   ],
   "source": [
    "google_wrd2vc.similarity('machine','sounds')"
   ]
  },
  {
   "cell_type": "code",
   "execution_count": 17,
   "id": "45701403",
   "metadata": {},
   "outputs": [
    {
     "name": "stdout",
     "output_type": "stream",
     "text": [
      "[('queen', 0.7118193507194519)]\n"
     ]
    }
   ],
   "source": [
    "print(google_wrd2vc.most_similar(positive=['king', 'woman'], negative=['man'], topn=1))"
   ]
  },
  {
   "cell_type": "markdown",
   "id": "15de368e",
   "metadata": {},
   "source": [
    "Part b"
   ]
  },
  {
   "cell_type": "code",
   "execution_count": 18,
   "id": "bbd7c199",
   "metadata": {},
   "outputs": [],
   "source": [
    "\n",
    "class MyCorpus:\n",
    "    ## step to create custom Corpus for Word2vec to use to generate word vectors\n",
    "    def __iter__(self):\n",
    "        for line in df_fi['review_body']:\n",
    "            # assume there's one document per line, tokens separated by whitespace\n",
    "            yield utils.simple_preprocess(line)"
   ]
  },
  {
   "cell_type": "code",
   "execution_count": 19,
   "id": "f9a8f3c1",
   "metadata": {},
   "outputs": [],
   "source": [
    "#Loading my own Word2Vec \n",
    "my_model= Word2Vec(sentences = MyCorpus(), vector_size = 300, window = 13, min_count = 9)"
   ]
  },
  {
   "cell_type": "code",
   "execution_count": 20,
   "id": "3f9c5601",
   "metadata": {},
   "outputs": [
    {
     "data": {
      "text/plain": [
       "0.15689024"
      ]
     },
     "execution_count": 20,
     "metadata": {},
     "output_type": "execute_result"
    }
   ],
   "source": [
    "my_model.wv.similarity('machine','sounds')"
   ]
  },
  {
   "cell_type": "code",
   "execution_count": 21,
   "id": "20485ae1",
   "metadata": {},
   "outputs": [
    {
     "data": {
      "text/plain": [
       "0.38715005"
      ]
     },
     "execution_count": 21,
     "metadata": {},
     "output_type": "execute_result"
    }
   ],
   "source": [
    "my_model.wv.similarity('good','better')"
   ]
  },
  {
   "cell_type": "code",
   "execution_count": 22,
   "id": "ece82e51",
   "metadata": {},
   "outputs": [
    {
     "name": "stdout",
     "output_type": "stream",
     "text": [
      "[('concealing', 0.6018328070640564)]\n"
     ]
    }
   ],
   "source": [
    "print(my_model.wv.most_similar(positive=['king', 'woman'], negative=['man'],topn=1))"
   ]
  },
  {
   "cell_type": "markdown",
   "id": "b997925c",
   "metadata": {},
   "source": [
    "The performance of the Pre-trained model by word2vec-google-news-300 is better since it has a much bigger corpus than my personal dataset. Therefore the pretrained mmodel can findout better similarities than my model."
   ]
  },
  {
   "cell_type": "markdown",
   "id": "0b5ff570",
   "metadata": {},
   "source": [
    "#### Simple models"
   ]
  },
  {
   "cell_type": "code",
   "execution_count": 23,
   "id": "76189418",
   "metadata": {},
   "outputs": [],
   "source": [
    "#Splitting data into train and test dataset\n",
    "\n",
    "true_label = df_fi['star_rating'].to_numpy()\n",
    "X_train, X_test, Y_train, Y_test = train_test_split(df_fi['review_body'], true_label, test_size=0.2, random_state=42)"
   ]
  },
  {
   "cell_type": "code",
   "execution_count": 24,
   "id": "c996d4a3",
   "metadata": {},
   "outputs": [
    {
     "ename": "IndentationError",
     "evalue": "expected an indented block (1370460310.py, line 10)",
     "output_type": "error",
     "traceback": [
      "\u001b[1;36m  Input \u001b[1;32mIn [24]\u001b[1;36m\u001b[0m\n\u001b[1;33m    \u001b[0m\n\u001b[1;37m    ^\u001b[0m\n\u001b[1;31mIndentationError\u001b[0m\u001b[1;31m:\u001b[0m expected an indented block\n"
     ]
    }
   ],
   "source": [
    "##average Word2Vec vectors for each review as the input feature \n",
    "\n",
    "for row in df_fi['review_body']:\n",
    "    sent_split=row.split(' ')\n",
    "    for word in sent_split:\n",
    "        if word in google_wrd2vc:\n",
    "            \n",
    "        \n",
    "        \n",
    "    "
   ]
  },
  {
   "cell_type": "code",
   "execution_count": null,
   "id": "0fd8093a",
   "metadata": {},
   "outputs": [],
   "source": []
  }
 ],
 "metadata": {
  "kernelspec": {
   "display_name": "Python 3 (ipykernel)",
   "language": "python",
   "name": "python3"
  },
  "language_info": {
   "codemirror_mode": {
    "name": "ipython",
    "version": 3
   },
   "file_extension": ".py",
   "mimetype": "text/x-python",
   "name": "python",
   "nbconvert_exporter": "python",
   "pygments_lexer": "ipython3",
   "version": "3.9.12"
  }
 },
 "nbformat": 4,
 "nbformat_minor": 5
}
